{
 "cells": [
  {
   "cell_type": "code",
   "execution_count": 1,
   "metadata": {},
   "outputs": [],
   "source": [
    "import re"
   ]
  },
  {
   "cell_type": "code",
   "execution_count": 96,
   "metadata": {},
   "outputs": [],
   "source": [
    "def check_sum(cas_string):\n",
    "    \n",
    "    casArray = re.findall(r'\\d', cas_string)\n",
    "    check_digit = int(casArray.pop())\n",
    "    x = [(i+1) for i in range(len(casArray))]\n",
    "    y = casArray[::-1]\n",
    "    Q = int(sum([(i * int(j)) for i, j in zip(x,y)]) % 10)\n",
    "    if Q == check_digit:\n",
    "        print('valid CAS')\n",
    "    else: \n",
    "        print('failed_checksum')\n",
    "    "
   ]
  },
  {
   "cell_type": "code",
   "execution_count": 100,
   "metadata": {},
   "outputs": [
    {
     "name": "stdout",
     "output_type": "stream",
     "text": [
      "valid CAS\n"
     ]
    }
   ],
   "source": [
    "check_sum('60-35-5')"
   ]
  },
  {
   "cell_type": "code",
   "execution_count": null,
   "metadata": {},
   "outputs": [],
   "source": []
  }
 ],
 "metadata": {
  "kernelspec": {
   "display_name": "Python 3",
   "language": "python",
   "name": "python3"
  },
  "language_info": {
   "codemirror_mode": {
    "name": "ipython",
    "version": 3
   },
   "file_extension": ".py",
   "mimetype": "text/x-python",
   "name": "python",
   "nbconvert_exporter": "python",
   "pygments_lexer": "ipython3",
   "version": "3.7.6"
  }
 },
 "nbformat": 4,
 "nbformat_minor": 4
}
