{
  "nbformat": 4,
  "nbformat_minor": 0,
  "metadata": {
    "colab": {
      "name": "CAS_row_to_column.ipynb",
      "provenance": [],
      "authorship_tag": "ABX9TyNmr31f1mnEmCqNpJlIKUQg",
      "include_colab_link": true
    },
    "kernelspec": {
      "name": "python3",
      "display_name": "Python 3"
    }
  },
  "cells": [
    {
      "cell_type": "markdown",
      "metadata": {
        "id": "view-in-github",
        "colab_type": "text"
      },
      "source": [
        "<a href=\"https://colab.research.google.com/github/patlewig/cas_checksum/blob/master/CAS_row_to_column.ipynb\" target=\"_parent\"><img src=\"https://colab.research.google.com/assets/colab-badge.svg\" alt=\"Open In Colab\"/></a>"
      ]
    },
    {
      "cell_type": "code",
      "metadata": {
        "id": "iUi0KssNkkBN",
        "colab_type": "code",
        "colab": {
          "base_uri": "https://localhost:8080/",
          "height": 72
        },
        "outputId": "4c5c4603-b915-4bcf-dab8-9f9a4b98c977"
      },
      "source": [
        "import pandas as pd\n",
        "import numpy as np\n",
        "import matplotlib.pyplot as plt\n",
        "import seaborn as sns\n",
        "%matplotlib inline"
      ],
      "execution_count": 1,
      "outputs": [
        {
          "output_type": "stream",
          "text": [
            "/usr/local/lib/python3.6/dist-packages/statsmodels/tools/_testing.py:19: FutureWarning: pandas.util.testing is deprecated. Use the functions in the public API at pandas.testing instead.\n",
            "  import pandas.util.testing as tm\n"
          ],
          "name": "stderr"
        }
      ]
    },
    {
      "cell_type": "code",
      "metadata": {
        "id": "FpLOCxlwktuv",
        "colab_type": "code",
        "colab": {
          "base_uri": "https://localhost:8080/",
          "height": 124
        },
        "outputId": "b6a0aa13-55ba-4a1f-e085-c78fa6f991e3"
      },
      "source": [
        "from google.colab import drive\n",
        "drive.mount('/content/drive')\n"
      ],
      "execution_count": 2,
      "outputs": [
        {
          "output_type": "stream",
          "text": [
            "Go to this URL in a browser: https://accounts.google.com/o/oauth2/auth?client_id=947318989803-6bn6qk8qdgf4n4g3pfee6491hc0brc4i.apps.googleusercontent.com&redirect_uri=urn%3aietf%3awg%3aoauth%3a2.0%3aoob&response_type=code&scope=email%20https%3a%2f%2fwww.googleapis.com%2fauth%2fdocs.test%20https%3a%2f%2fwww.googleapis.com%2fauth%2fdrive%20https%3a%2f%2fwww.googleapis.com%2fauth%2fdrive.photos.readonly%20https%3a%2f%2fwww.googleapis.com%2fauth%2fpeopleapi.readonly\n",
            "\n",
            "Enter your authorization code:\n",
            "··········\n",
            "Mounted at /content/drive\n"
          ],
          "name": "stdout"
        }
      ]
    },
    {
      "cell_type": "code",
      "metadata": {
        "id": "Ul-nl5J6lBX0",
        "colab_type": "code",
        "colab": {}
      },
      "source": [
        "data = '/content/drive/My Drive/'"
      ],
      "execution_count": 67,
      "outputs": []
    },
    {
      "cell_type": "markdown",
      "metadata": {
        "id": "-e0-_LAC3eIQ",
        "colab_type": "text"
      },
      "source": [
        "Read in file as pandas dataframe\n"
      ]
    },
    {
      "cell_type": "code",
      "metadata": {
        "id": "Nv2BR8njlBW4",
        "colab_type": "code",
        "colab": {}
      },
      "source": [
        "xls = pd.ExcelFile(data+'CAS-strings.xlsx')"
      ],
      "execution_count": 69,
      "outputs": []
    },
    {
      "cell_type": "code",
      "metadata": {
        "id": "ns4mAwEOmhgs",
        "colab_type": "code",
        "colab": {
          "base_uri": "https://localhost:8080/",
          "height": 35
        },
        "outputId": "dadfacee-f93d-4714-a04f-1453332e7736"
      },
      "source": [
        "xls.sheet_names"
      ],
      "execution_count": 70,
      "outputs": [
        {
          "output_type": "execute_result",
          "data": {
            "text/plain": [
              "['Sheet1']"
            ]
          },
          "metadata": {
            "tags": []
          },
          "execution_count": 70
        }
      ]
    },
    {
      "cell_type": "code",
      "metadata": {
        "id": "Iso1tHObmr2U",
        "colab_type": "code",
        "colab": {}
      },
      "source": [
        "df = xls.parse('Sheet1')"
      ],
      "execution_count": 80,
      "outputs": []
    },
    {
      "cell_type": "code",
      "metadata": {
        "id": "fXfKHb7fr_KU",
        "colab_type": "code",
        "colab": {}
      },
      "source": [
        "df.columns = ['Unnamed', 'CAS']"
      ],
      "execution_count": 81,
      "outputs": []
    },
    {
      "cell_type": "code",
      "metadata": {
        "id": "1qFsjEs_sMOB",
        "colab_type": "code",
        "colab": {}
      },
      "source": [
        "#df.dropna(axis = 0, inplace = True)"
      ],
      "execution_count": 82,
      "outputs": []
    },
    {
      "cell_type": "code",
      "metadata": {
        "id": "940PsEvfsSnr",
        "colab_type": "code",
        "colab": {}
      },
      "source": [
        "df.drop(['Unnamed'], axis = 1, inplace = True)"
      ],
      "execution_count": 86,
      "outputs": []
    },
    {
      "cell_type": "markdown",
      "metadata": {
        "id": "IeD2mRJt3nOX",
        "colab_type": "text"
      },
      "source": [
        "Extract row that contains the CAS numbers as a list\n"
      ]
    },
    {
      "cell_type": "code",
      "metadata": {
        "id": "8Bhr9Xz5sv0A",
        "colab_type": "code",
        "colab": {}
      },
      "source": [
        "s = df.iloc[1].tolist()"
      ],
      "execution_count": 90,
      "outputs": []
    },
    {
      "cell_type": "markdown",
      "metadata": {
        "id": "yTpuAeS83ti_",
        "colab_type": "text"
      },
      "source": [
        "Convert the list into a string variable\n"
      ]
    },
    {
      "cell_type": "code",
      "metadata": {
        "id": "OIeYwHNZt9cW",
        "colab_type": "code",
        "colab": {}
      },
      "source": [
        "s2 =''.join(s)"
      ],
      "execution_count": 97,
      "outputs": []
    },
    {
      "cell_type": "code",
      "metadata": {
        "id": "jW7Mer-Juno9",
        "colab_type": "code",
        "colab": {
          "base_uri": "https://localhost:8080/",
          "height": 35
        },
        "outputId": "baf202a6-202f-45be-bba2-437fe27e107c"
      },
      "source": [
        "type(s2)"
      ],
      "execution_count": 102,
      "outputs": [
        {
          "output_type": "execute_result",
          "data": {
            "text/plain": [
              "str"
            ]
          },
          "metadata": {
            "tags": []
          },
          "execution_count": 102
        }
      ]
    },
    {
      "cell_type": "markdown",
      "metadata": {
        "id": "NtbPdxrS3zkB",
        "colab_type": "text"
      },
      "source": [
        "Use regex library to split the string on the various delimiter types that exists in the string"
      ]
    },
    {
      "cell_type": "code",
      "metadata": {
        "id": "V4vj9Hi7tnyR",
        "colab_type": "code",
        "colab": {}
      },
      "source": [
        "import re"
      ],
      "execution_count": 103,
      "outputs": []
    },
    {
      "cell_type": "code",
      "metadata": {
        "id": "keQgD_Wwsv5F",
        "colab_type": "code",
        "colab": {}
      },
      "source": [
        "res = re.split(', |\\.| ,', s2)\n",
        "  \n"
      ],
      "execution_count": 114,
      "outputs": []
    },
    {
      "cell_type": "markdown",
      "metadata": {
        "id": "24FjJ5Os37xu",
        "colab_type": "text"
      },
      "source": [
        "Strip trailing whitespace, whitespace in the CAS and any trailing ',' left in the list elements"
      ]
    },
    {
      "cell_type": "code",
      "metadata": {
        "id": "1BHWDmtZvO_L",
        "colab_type": "code",
        "colab": {}
      },
      "source": [
        "res2 = [e.strip() for e in res]"
      ],
      "execution_count": 118,
      "outputs": []
    },
    {
      "cell_type": "code",
      "metadata": {
        "id": "IUHLKx38wf9K",
        "colab_type": "code",
        "colab": {}
      },
      "source": [
        "res2 = [e.replace(' ','') for e in res2]"
      ],
      "execution_count": 125,
      "outputs": []
    },
    {
      "cell_type": "code",
      "metadata": {
        "id": "gtuR9cLCw9iy",
        "colab_type": "code",
        "colab": {}
      },
      "source": [
        "res2 = [e.replace(',', '') for e in res2]"
      ],
      "execution_count": 128,
      "outputs": []
    },
    {
      "cell_type": "markdown",
      "metadata": {
        "id": "tXtJna1g4FPb",
        "colab_type": "text"
      },
      "source": [
        "Now with the res2 list variable, create a new empty dataframe and make a new column out of the list"
      ]
    },
    {
      "cell_type": "code",
      "metadata": {
        "id": "p2VsFtsGwGYx",
        "colab_type": "code",
        "colab": {}
      },
      "source": [
        "df = pd.DataFrame()"
      ],
      "execution_count": 129,
      "outputs": []
    },
    {
      "cell_type": "code",
      "metadata": {
        "id": "zj0Q_e7rwRSg",
        "colab_type": "code",
        "colab": {}
      },
      "source": [
        "df['CAS'] = res2"
      ],
      "execution_count": 130,
      "outputs": []
    },
    {
      "cell_type": "markdown",
      "metadata": {
        "id": "Fftb-iCA4TLx",
        "colab_type": "text"
      },
      "source": [
        "Save dataframe as an excel worksheet\n"
      ]
    },
    {
      "cell_type": "code",
      "metadata": {
        "id": "GwiMw_IjwUoX",
        "colab_type": "code",
        "colab": {}
      },
      "source": [
        "df.to_excel(data+\"CAS-output.xlsx\")  "
      ],
      "execution_count": 132,
      "outputs": []
    },
    {
      "cell_type": "code",
      "metadata": {
        "id": "4cFsdX5mom3t",
        "colab_type": "code",
        "colab": {}
      },
      "source": [
        ""
      ],
      "execution_count": null,
      "outputs": []
    }
  ]
}
