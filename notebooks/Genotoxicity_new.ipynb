{
  "nbformat": 4,
  "nbformat_minor": 0,
  "metadata": {
    "colab": {
      "name": "Genotoxicity_new.ipynb",
      "provenance": [],
      "collapsed_sections": [],
      "authorship_tag": "ABX9TyMbo4ZeWfwAy5s9rNBtuu73",
      "include_colab_link": true
    },
    "kernelspec": {
      "name": "python3",
      "display_name": "Python 3"
    }
  },
  "cells": [
    {
      "cell_type": "markdown",
      "metadata": {
        "id": "view-in-github",
        "colab_type": "text"
      },
      "source": [
        "<a href=\"https://colab.research.google.com/github/patlewig/cas_checksum/blob/master/notebooks/Genotoxicity_new.ipynb\" target=\"_parent\"><img src=\"https://colab.research.google.com/assets/colab-badge.svg\" alt=\"Open In Colab\"/></a>"
      ]
    },
    {
      "cell_type": "markdown",
      "metadata": {
        "id": "GilraKTw0l3o",
        "colab_type": "text"
      },
      "source": [
        "# Genotoxicity Analysis - Pradeep et al \n"
      ]
    },
    {
      "cell_type": "markdown",
      "metadata": {
        "id": "MX5qIPGO0r_s",
        "colab_type": "text"
      },
      "source": [
        "Notebook to reconcile genotoxicity data into a new dictionary to facilitate the analysis of the variability of selected genotoxicity assays\n"
      ]
    },
    {
      "cell_type": "code",
      "metadata": {
        "id": "MLwgp_-202i_",
        "colab_type": "code",
        "colab": {}
      },
      "source": [
        "import pandas as pd\n",
        "import numpy as np\n",
        "import matplotlib.pyplot as plt\n",
        "import seaborn as sns\n",
        "%matplotlib inline\n"
      ],
      "execution_count": 301,
      "outputs": []
    },
    {
      "cell_type": "code",
      "metadata": {
        "id": "2s3wNiIB1hwG",
        "colab_type": "code",
        "colab": {
          "base_uri": "https://localhost:8080/",
          "height": 34
        },
        "outputId": "f47c92a2-efd9-4512-a374-770128c35b45"
      },
      "source": [
        "from google.colab import drive\n",
        "drive.mount('/content/drive')"
      ],
      "execution_count": 302,
      "outputs": [
        {
          "output_type": "stream",
          "text": [
            "Drive already mounted at /content/drive; to attempt to forcibly remount, call drive.mount(\"/content/drive\", force_remount=True).\n"
          ],
          "name": "stdout"
        }
      ]
    },
    {
      "cell_type": "code",
      "metadata": {
        "id": "Ik8y9_A11xZb",
        "colab_type": "code",
        "colab": {}
      },
      "source": [
        "data = '/content/drive/My Drive/genetox/'"
      ],
      "execution_count": 303,
      "outputs": []
    },
    {
      "cell_type": "code",
      "metadata": {
        "id": "24V20Jsv1_JT",
        "colab_type": "code",
        "colab": {}
      },
      "source": [
        "xls = pd.ExcelFile(data+'genetox_160120.xlsx')"
      ],
      "execution_count": 304,
      "outputs": []
    },
    {
      "cell_type": "code",
      "metadata": {
        "id": "YIejwGJy2Mzj",
        "colab_type": "code",
        "colab": {
          "base_uri": "https://localhost:8080/",
          "height": 34
        },
        "outputId": "786384e7-c045-4d47-dc77-214e7b016182"
      },
      "source": [
        "xls.sheet_names"
      ],
      "execution_count": 305,
      "outputs": [
        {
          "output_type": "execute_result",
          "data": {
            "text/plain": [
              "['all_genetox_exptdata']"
            ]
          },
          "metadata": {
            "tags": []
          },
          "execution_count": 305
        }
      ]
    },
    {
      "cell_type": "code",
      "metadata": {
        "id": "0o3UiFfD2YFz",
        "colab_type": "code",
        "colab": {}
      },
      "source": [
        "genetox = xls.parse(xls.sheet_names[0])"
      ],
      "execution_count": 306,
      "outputs": []
    },
    {
      "cell_type": "code",
      "metadata": {
        "id": "5RVfGhu22gXj",
        "colab_type": "code",
        "colab": {
          "base_uri": "https://localhost:8080/",
          "height": 34
        },
        "outputId": "9776c64f-477a-4198-dad5-3c0578d6db28"
      },
      "source": [
        "genetox.shape"
      ],
      "execution_count": 307,
      "outputs": [
        {
          "output_type": "execute_result",
          "data": {
            "text/plain": [
              "(46557, 20)"
            ]
          },
          "metadata": {
            "tags": []
          },
          "execution_count": 307
        }
      ]
    },
    {
      "cell_type": "code",
      "metadata": {
        "id": "3a4Qzcos2h6P",
        "colab_type": "code",
        "colab": {
          "base_uri": "https://localhost:8080/",
          "height": 504
        },
        "outputId": "fcebbc97-8025-4352-d921-1913f21ea066"
      },
      "source": [
        "genetox.head()"
      ],
      "execution_count": 308,
      "outputs": [
        {
          "output_type": "execute_result",
          "data": {
            "text/html": [
              "<div>\n",
              "<style scoped>\n",
              "    .dataframe tbody tr th:only-of-type {\n",
              "        vertical-align: middle;\n",
              "    }\n",
              "\n",
              "    .dataframe tbody tr th {\n",
              "        vertical-align: top;\n",
              "    }\n",
              "\n",
              "    .dataframe thead th {\n",
              "        text-align: right;\n",
              "    }\n",
              "</style>\n",
              "<table border=\"1\" class=\"dataframe\">\n",
              "  <thead>\n",
              "    <tr style=\"text-align: right;\">\n",
              "      <th></th>\n",
              "      <th>Unnamed: 0</th>\n",
              "      <th>dsstox_substance_id</th>\n",
              "      <th>name</th>\n",
              "      <th>casrn</th>\n",
              "      <th>newname2</th>\n",
              "      <th>CASRN</th>\n",
              "      <th>PREFERRED_NAME</th>\n",
              "      <th>assay_result</th>\n",
              "      <th>assay_type</th>\n",
              "      <th>assay_type_standard</th>\n",
              "      <th>reference</th>\n",
              "      <th>source</th>\n",
              "      <th>species</th>\n",
              "      <th>strain</th>\n",
              "      <th>year</th>\n",
              "      <th>standard_assay_type</th>\n",
              "      <th>assay_result_std</th>\n",
              "      <th>assay_outcome</th>\n",
              "      <th>aggregate_study_type</th>\n",
              "      <th>simple_aggregate</th>\n",
              "    </tr>\n",
              "  </thead>\n",
              "  <tbody>\n",
              "    <tr>\n",
              "      <th>0</th>\n",
              "      <td>0</td>\n",
              "      <td>DTXSID5039224</td>\n",
              "      <td>ACETALDEHYDE (Preferred Term); ACETALDEHYDE (I...</td>\n",
              "      <td>75-07-0</td>\n",
              "      <td>NaN</td>\n",
              "      <td>NaN</td>\n",
              "      <td>NaN</td>\n",
              "      <td>positive</td>\n",
              "      <td>In Vivo Non-mammalian Mutagenesis</td>\n",
              "      <td>mutagenesis (in vivo)</td>\n",
              "      <td>ENVIRON MUTAGEN 7:677-702</td>\n",
              "      <td>COSMOS</td>\n",
              "      <td>DROSOPHILA MELANOGASTER</td>\n",
              "      <td>NaN</td>\n",
              "      <td>1985.0</td>\n",
              "      <td>In Vivo Non-mammalian Mutagenesis</td>\n",
              "      <td>positive</td>\n",
              "      <td>1</td>\n",
              "      <td>other</td>\n",
              "      <td>other</td>\n",
              "    </tr>\n",
              "    <tr>\n",
              "      <th>1</th>\n",
              "      <td>5</td>\n",
              "      <td>DTXSID5020106</td>\n",
              "      <td>ASCORBIC ACID (Preferred Term); ASCORBIC ACID ...</td>\n",
              "      <td>50-81-7</td>\n",
              "      <td>NaN</td>\n",
              "      <td>NaN</td>\n",
              "      <td>NaN</td>\n",
              "      <td>positive</td>\n",
              "      <td>In Vivo Non-mammalian Mutagenesis</td>\n",
              "      <td>mutagenesis (in vivo)</td>\n",
              "      <td>MUTAT RES 242:169-180</td>\n",
              "      <td>COSMOS</td>\n",
              "      <td>DROSOPHILA MELANOGASTER</td>\n",
              "      <td>NaN</td>\n",
              "      <td>1990.0</td>\n",
              "      <td>In Vivo Non-mammalian Mutagenesis</td>\n",
              "      <td>positive</td>\n",
              "      <td>1</td>\n",
              "      <td>other</td>\n",
              "      <td>other</td>\n",
              "    </tr>\n",
              "    <tr>\n",
              "      <th>2</th>\n",
              "      <td>6</td>\n",
              "      <td>DTXSID8039241</td>\n",
              "      <td>BENZALDEHYDE (INCI); BENZALDEHYDE (Preferred T...</td>\n",
              "      <td>100-52-7</td>\n",
              "      <td>NaN</td>\n",
              "      <td>NaN</td>\n",
              "      <td>NaN</td>\n",
              "      <td>positive</td>\n",
              "      <td>In Vivo Non-mammalian Mutagenesis</td>\n",
              "      <td>mutagenesis (in vivo)</td>\n",
              "      <td>ENVIRON MUTAGEN 7:677-702</td>\n",
              "      <td>COSMOS</td>\n",
              "      <td>DROSOPHILA MELANOGASTER</td>\n",
              "      <td>NaN</td>\n",
              "      <td>1985.0</td>\n",
              "      <td>In Vivo Non-mammalian Mutagenesis</td>\n",
              "      <td>positive</td>\n",
              "      <td>1</td>\n",
              "      <td>other</td>\n",
              "      <td>other</td>\n",
              "    </tr>\n",
              "    <tr>\n",
              "      <th>3</th>\n",
              "      <td>7</td>\n",
              "      <td>DTXSID1020144</td>\n",
              "      <td>BENZOIN (INCI); BENZOIN (Preferred Term)</td>\n",
              "      <td>119-53-9</td>\n",
              "      <td>NaN</td>\n",
              "      <td>NaN</td>\n",
              "      <td>NaN</td>\n",
              "      <td>positive</td>\n",
              "      <td>In Vivo Non-mammalian Mutagenesis</td>\n",
              "      <td>mutagenesis (in vivo)</td>\n",
              "      <td>PROG MUTAT RES 5:229-234</td>\n",
              "      <td>COSMOS</td>\n",
              "      <td>SACCHAROMYCES CEREVISIAE</td>\n",
              "      <td>NaN</td>\n",
              "      <td>1985.0</td>\n",
              "      <td>In Vivo Non-mammalian Mutagenesis</td>\n",
              "      <td>positive</td>\n",
              "      <td>1</td>\n",
              "      <td>other</td>\n",
              "      <td>other</td>\n",
              "    </tr>\n",
              "    <tr>\n",
              "      <th>4</th>\n",
              "      <td>8</td>\n",
              "      <td>DTXSID1020144</td>\n",
              "      <td>BENZOIN (INCI); BENZOIN (Preferred Term)</td>\n",
              "      <td>119-53-9</td>\n",
              "      <td>NaN</td>\n",
              "      <td>NaN</td>\n",
              "      <td>NaN</td>\n",
              "      <td>positive</td>\n",
              "      <td>In Vivo Non-mammalian Mutagenesis</td>\n",
              "      <td>mutagenesis (in vivo)</td>\n",
              "      <td>PROG MUTAT RES 5:243-255</td>\n",
              "      <td>COSMOS</td>\n",
              "      <td>SACCHAROMYCES CEREVISIAE</td>\n",
              "      <td>NaN</td>\n",
              "      <td>1985.0</td>\n",
              "      <td>In Vivo Non-mammalian Mutagenesis</td>\n",
              "      <td>positive</td>\n",
              "      <td>1</td>\n",
              "      <td>other</td>\n",
              "      <td>other</td>\n",
              "    </tr>\n",
              "  </tbody>\n",
              "</table>\n",
              "</div>"
            ],
            "text/plain": [
              "   Unnamed: 0 dsstox_substance_id  ... aggregate_study_type simple_aggregate\n",
              "0           0       DTXSID5039224  ...                other            other\n",
              "1           5       DTXSID5020106  ...                other            other\n",
              "2           6       DTXSID8039241  ...                other            other\n",
              "3           7       DTXSID1020144  ...                other            other\n",
              "4           8       DTXSID1020144  ...                other            other\n",
              "\n",
              "[5 rows x 20 columns]"
            ]
          },
          "metadata": {
            "tags": []
          },
          "execution_count": 308
        }
      ]
    },
    {
      "cell_type": "code",
      "metadata": {
        "id": "FzPIhmeD2qEI",
        "colab_type": "code",
        "colab": {
          "base_uri": "https://localhost:8080/",
          "height": 52
        },
        "outputId": "c641dde7-1e78-4d76-e2fe-f8c2fc46bbbd"
      },
      "source": [
        "genetox.aggregate_study_type.unique()"
      ],
      "execution_count": 309,
      "outputs": [
        {
          "output_type": "execute_result",
          "data": {
            "text/plain": [
              "array(['other', 'DNA damage/repair', 'ivtCA', 'ivtMN', 'ivCA', 'ivMNT',\n",
              "       'ivt_gene_mutation', 'Ames', 'MLA', nan, 'DLT'], dtype=object)"
            ]
          },
          "metadata": {
            "tags": []
          },
          "execution_count": 309
        }
      ]
    },
    {
      "cell_type": "code",
      "metadata": {
        "id": "UoXCWdBx2qJz",
        "colab_type": "code",
        "colab": {
          "base_uri": "https://localhost:8080/",
          "height": 34
        },
        "outputId": "a053df5b-ddcf-4c94-a9ab-5e590f16964f"
      },
      "source": [
        "genetox.simple_aggregate.unique()\n",
        "    \n"
      ],
      "execution_count": 310,
      "outputs": [
        {
          "output_type": "execute_result",
          "data": {
            "text/plain": [
              "array(['other', 'clastogen', 'gene_mutation', 'Ames', nan], dtype=object)"
            ]
          },
          "metadata": {
            "tags": []
          },
          "execution_count": 310
        }
      ]
    },
    {
      "cell_type": "code",
      "metadata": {
        "id": "4sZKxd4z2qPE",
        "colab_type": "code",
        "colab": {}
      },
      "source": [
        "mapping_dict = dict(set(list(zip(genetox.aggregate_study_type, genetox.simple_aggregate))))"
      ],
      "execution_count": 311,
      "outputs": []
    },
    {
      "cell_type": "code",
      "metadata": {
        "id": "XHG-7X6R2qJA",
        "colab_type": "code",
        "colab": {
          "base_uri": "https://localhost:8080/",
          "height": 208
        },
        "outputId": "11813d3d-0d0d-4060-e255-ed9fd8222a78"
      },
      "source": [
        "mapping_dict"
      ],
      "execution_count": 312,
      "outputs": [
        {
          "output_type": "execute_result",
          "data": {
            "text/plain": [
              "{'Ames': 'Ames',\n",
              " 'DLT': 'clastogen',\n",
              " 'DNA damage/repair': 'other',\n",
              " 'MLA': 'clastogen',\n",
              " 'ivCA': 'clastogen',\n",
              " 'ivMNT': 'clastogen',\n",
              " 'ivtCA': 'clastogen',\n",
              " 'ivtMN': 'clastogen',\n",
              " 'ivt_gene_mutation': 'gene_mutation',\n",
              " nan: nan,\n",
              " 'other': 'other'}"
            ]
          },
          "metadata": {
            "tags": []
          },
          "execution_count": 312
        }
      ]
    },
    {
      "cell_type": "code",
      "metadata": {
        "id": "A0WS8Kt97AE_",
        "colab_type": "code",
        "colab": {
          "base_uri": "https://localhost:8080/",
          "height": 225
        },
        "outputId": "0f71a676-8452-4ca4-d371-ddb870f05d1e"
      },
      "source": [
        "genetox.dsstox_substance_id.value_counts(dropna =False)\n"
      ],
      "execution_count": 313,
      "outputs": [
        {
          "output_type": "execute_result",
          "data": {
            "text/plain": [
              "-                 6183\n",
              "DTXSID2051217     1167\n",
              "NaN                506\n",
              "DTXSID2020715      169\n",
              "DTXSID2020216      158\n",
              "                  ... \n",
              "DTXSID2025765        1\n",
              "DTXSID90210777       1\n",
              "DTXSID30177294       1\n",
              "DTXSID1041681        1\n",
              "DTXSID0021331        1\n",
              "Name: dsstox_substance_id, Length: 6024, dtype: int64"
            ]
          },
          "metadata": {
            "tags": []
          },
          "execution_count": 313
        }
      ]
    },
    {
      "cell_type": "code",
      "metadata": {
        "id": "mUVl95oUOZ5H",
        "colab_type": "code",
        "colab": {
          "base_uri": "https://localhost:8080/",
          "height": 121
        },
        "outputId": "9efea917-d0f3-44d2-d7e0-0514e5c0f48d"
      },
      "source": [
        "genetox.columns"
      ],
      "execution_count": 314,
      "outputs": [
        {
          "output_type": "execute_result",
          "data": {
            "text/plain": [
              "Index(['Unnamed: 0', 'dsstox_substance_id', 'name', 'casrn', 'newname2',\n",
              "       'CASRN', 'PREFERRED_NAME', 'assay_result', 'assay_type',\n",
              "       'assay_type_standard', 'reference', 'source', 'species', 'strain',\n",
              "       'year', 'standard_assay_type', 'assay_result_std', 'assay_outcome',\n",
              "       'aggregate_study_type', 'simple_aggregate'],\n",
              "      dtype='object')"
            ]
          },
          "metadata": {
            "tags": []
          },
          "execution_count": 314
        }
      ]
    },
    {
      "cell_type": "code",
      "metadata": {
        "id": "5-NQ5WwFP2qe",
        "colab_type": "code",
        "colab": {}
      },
      "source": [
        "genetox['dsstox_substance_id'] = genetox['dsstox_substance_id'].replace('-','missing')\n",
        "genetox['dsstox_substance_id'] = genetox['dsstox_substance_id'].replace('', 'missing')"
      ],
      "execution_count": 315,
      "outputs": []
    },
    {
      "cell_type": "code",
      "metadata": {
        "id": "d7u7pdBXStPn",
        "colab_type": "code",
        "colab": {
          "base_uri": "https://localhost:8080/",
          "height": 104
        },
        "outputId": "2ec4628d-2821-408e-ac7b-f9d79bdd121b"
      },
      "source": [
        "genetox.dsstox_substance_id.describe()"
      ],
      "execution_count": 316,
      "outputs": [
        {
          "output_type": "execute_result",
          "data": {
            "text/plain": [
              "count       46051\n",
              "unique       6023\n",
              "top       missing\n",
              "freq         6183\n",
              "Name: dsstox_substance_id, dtype: object"
            ]
          },
          "metadata": {
            "tags": []
          },
          "execution_count": 316
        }
      ]
    },
    {
      "cell_type": "code",
      "metadata": {
        "id": "U3LiXAbiTqIW",
        "colab_type": "code",
        "colab": {}
      },
      "source": [
        "new_id = []\n",
        "for x,y,z in list(zip(genetox['dsstox_substance_id'], genetox['casrn'], genetox['newname2'])):\n",
        "  if str(x).startswith('DTXSID') :\n",
        "    new_id.append(x)\n",
        "  elif x == 'missing' and y == ' ':\n",
        "    new_id.append('dtx' + z)\n",
        "  else:\n",
        "    new_id.append(y)\n",
        "    "
      ],
      "execution_count": 317,
      "outputs": []
    },
    {
      "cell_type": "code",
      "metadata": {
        "id": "jmapxIhXX0fg",
        "colab_type": "code",
        "colab": {
          "base_uri": "https://localhost:8080/",
          "height": 34
        },
        "outputId": "0266164d-52f4-4e9b-e668-b5cdb373d796"
      },
      "source": [
        "len(new_id)"
      ],
      "execution_count": 318,
      "outputs": [
        {
          "output_type": "execute_result",
          "data": {
            "text/plain": [
              "46557"
            ]
          },
          "metadata": {
            "tags": []
          },
          "execution_count": 318
        }
      ]
    },
    {
      "cell_type": "code",
      "metadata": {
        "id": "OD6WbdZMWKEL",
        "colab_type": "code",
        "colab": {}
      },
      "source": [
        "genetox['new_index'] = new_id"
      ],
      "execution_count": 319,
      "outputs": []
    },
    {
      "cell_type": "code",
      "metadata": {
        "id": "sS3HhSsKYtis",
        "colab_type": "code",
        "colab": {}
      },
      "source": [
        "df = genetox.copy()"
      ],
      "execution_count": 320,
      "outputs": []
    },
    {
      "cell_type": "code",
      "metadata": {
        "id": "KZCnO_OV2qDZ",
        "colab_type": "code",
        "colab": {}
      },
      "source": [
        "df = genetox.set_index('new_index')"
      ],
      "execution_count": 321,
      "outputs": []
    },
    {
      "cell_type": "code",
      "metadata": {
        "id": "Lv1JyuCw8b5f",
        "colab_type": "code",
        "colab": {}
      },
      "source": [
        "df['Ames'] = df['aggregate_study_type'] == 'Ames'"
      ],
      "execution_count": 322,
      "outputs": []
    },
    {
      "cell_type": "code",
      "metadata": {
        "id": "1eJDFaVR8ofi",
        "colab_type": "code",
        "colab": {}
      },
      "source": [
        "df['ivMNT'] = df['aggregate_study_type'] == 'ivMNT'"
      ],
      "execution_count": 323,
      "outputs": []
    },
    {
      "cell_type": "code",
      "metadata": {
        "id": "cPAczdiC8yKA",
        "colab_type": "code",
        "colab": {
          "base_uri": "https://localhost:8080/",
          "height": 69
        },
        "outputId": "45758499-155d-4a6c-b547-fd0252ec3508"
      },
      "source": [
        "df.Ames.value_counts()"
      ],
      "execution_count": 324,
      "outputs": [
        {
          "output_type": "execute_result",
          "data": {
            "text/plain": [
              "False    24000\n",
              "True     22557\n",
              "Name: Ames, dtype: int64"
            ]
          },
          "metadata": {
            "tags": []
          },
          "execution_count": 324
        }
      ]
    },
    {
      "cell_type": "code",
      "metadata": {
        "id": "vrI_uI1P83mg",
        "colab_type": "code",
        "colab": {
          "base_uri": "https://localhost:8080/",
          "height": 69
        },
        "outputId": "499b574d-acf1-4c00-eb28-74141ea498b3"
      },
      "source": [
        "df['ivMNT'].value_counts()"
      ],
      "execution_count": 325,
      "outputs": [
        {
          "output_type": "execute_result",
          "data": {
            "text/plain": [
              "False    46320\n",
              "True       237\n",
              "Name: ivMNT, dtype: int64"
            ]
          },
          "metadata": {
            "tags": []
          },
          "execution_count": 325
        }
      ]
    },
    {
      "cell_type": "code",
      "metadata": {
        "id": "O-WqP9OBZmgc",
        "colab_type": "code",
        "colab": {
          "base_uri": "https://localhost:8080/",
          "height": 535
        },
        "outputId": "08e2192c-f290-4002-c779-74fe8c00027a"
      },
      "source": [
        "df.head()"
      ],
      "execution_count": 326,
      "outputs": [
        {
          "output_type": "execute_result",
          "data": {
            "text/html": [
              "<div>\n",
              "<style scoped>\n",
              "    .dataframe tbody tr th:only-of-type {\n",
              "        vertical-align: middle;\n",
              "    }\n",
              "\n",
              "    .dataframe tbody tr th {\n",
              "        vertical-align: top;\n",
              "    }\n",
              "\n",
              "    .dataframe thead th {\n",
              "        text-align: right;\n",
              "    }\n",
              "</style>\n",
              "<table border=\"1\" class=\"dataframe\">\n",
              "  <thead>\n",
              "    <tr style=\"text-align: right;\">\n",
              "      <th></th>\n",
              "      <th>Unnamed: 0</th>\n",
              "      <th>dsstox_substance_id</th>\n",
              "      <th>name</th>\n",
              "      <th>casrn</th>\n",
              "      <th>newname2</th>\n",
              "      <th>CASRN</th>\n",
              "      <th>PREFERRED_NAME</th>\n",
              "      <th>assay_result</th>\n",
              "      <th>assay_type</th>\n",
              "      <th>assay_type_standard</th>\n",
              "      <th>reference</th>\n",
              "      <th>source</th>\n",
              "      <th>species</th>\n",
              "      <th>strain</th>\n",
              "      <th>year</th>\n",
              "      <th>standard_assay_type</th>\n",
              "      <th>assay_result_std</th>\n",
              "      <th>assay_outcome</th>\n",
              "      <th>aggregate_study_type</th>\n",
              "      <th>simple_aggregate</th>\n",
              "      <th>Ames</th>\n",
              "      <th>ivMNT</th>\n",
              "    </tr>\n",
              "    <tr>\n",
              "      <th>new_index</th>\n",
              "      <th></th>\n",
              "      <th></th>\n",
              "      <th></th>\n",
              "      <th></th>\n",
              "      <th></th>\n",
              "      <th></th>\n",
              "      <th></th>\n",
              "      <th></th>\n",
              "      <th></th>\n",
              "      <th></th>\n",
              "      <th></th>\n",
              "      <th></th>\n",
              "      <th></th>\n",
              "      <th></th>\n",
              "      <th></th>\n",
              "      <th></th>\n",
              "      <th></th>\n",
              "      <th></th>\n",
              "      <th></th>\n",
              "      <th></th>\n",
              "      <th></th>\n",
              "      <th></th>\n",
              "    </tr>\n",
              "  </thead>\n",
              "  <tbody>\n",
              "    <tr>\n",
              "      <th>DTXSID5039224</th>\n",
              "      <td>0</td>\n",
              "      <td>DTXSID5039224</td>\n",
              "      <td>ACETALDEHYDE (Preferred Term); ACETALDEHYDE (I...</td>\n",
              "      <td>75-07-0</td>\n",
              "      <td>NaN</td>\n",
              "      <td>NaN</td>\n",
              "      <td>NaN</td>\n",
              "      <td>positive</td>\n",
              "      <td>In Vivo Non-mammalian Mutagenesis</td>\n",
              "      <td>mutagenesis (in vivo)</td>\n",
              "      <td>ENVIRON MUTAGEN 7:677-702</td>\n",
              "      <td>COSMOS</td>\n",
              "      <td>DROSOPHILA MELANOGASTER</td>\n",
              "      <td>NaN</td>\n",
              "      <td>1985.0</td>\n",
              "      <td>In Vivo Non-mammalian Mutagenesis</td>\n",
              "      <td>positive</td>\n",
              "      <td>1</td>\n",
              "      <td>other</td>\n",
              "      <td>other</td>\n",
              "      <td>False</td>\n",
              "      <td>False</td>\n",
              "    </tr>\n",
              "    <tr>\n",
              "      <th>DTXSID5020106</th>\n",
              "      <td>5</td>\n",
              "      <td>DTXSID5020106</td>\n",
              "      <td>ASCORBIC ACID (Preferred Term); ASCORBIC ACID ...</td>\n",
              "      <td>50-81-7</td>\n",
              "      <td>NaN</td>\n",
              "      <td>NaN</td>\n",
              "      <td>NaN</td>\n",
              "      <td>positive</td>\n",
              "      <td>In Vivo Non-mammalian Mutagenesis</td>\n",
              "      <td>mutagenesis (in vivo)</td>\n",
              "      <td>MUTAT RES 242:169-180</td>\n",
              "      <td>COSMOS</td>\n",
              "      <td>DROSOPHILA MELANOGASTER</td>\n",
              "      <td>NaN</td>\n",
              "      <td>1990.0</td>\n",
              "      <td>In Vivo Non-mammalian Mutagenesis</td>\n",
              "      <td>positive</td>\n",
              "      <td>1</td>\n",
              "      <td>other</td>\n",
              "      <td>other</td>\n",
              "      <td>False</td>\n",
              "      <td>False</td>\n",
              "    </tr>\n",
              "    <tr>\n",
              "      <th>DTXSID8039241</th>\n",
              "      <td>6</td>\n",
              "      <td>DTXSID8039241</td>\n",
              "      <td>BENZALDEHYDE (INCI); BENZALDEHYDE (Preferred T...</td>\n",
              "      <td>100-52-7</td>\n",
              "      <td>NaN</td>\n",
              "      <td>NaN</td>\n",
              "      <td>NaN</td>\n",
              "      <td>positive</td>\n",
              "      <td>In Vivo Non-mammalian Mutagenesis</td>\n",
              "      <td>mutagenesis (in vivo)</td>\n",
              "      <td>ENVIRON MUTAGEN 7:677-702</td>\n",
              "      <td>COSMOS</td>\n",
              "      <td>DROSOPHILA MELANOGASTER</td>\n",
              "      <td>NaN</td>\n",
              "      <td>1985.0</td>\n",
              "      <td>In Vivo Non-mammalian Mutagenesis</td>\n",
              "      <td>positive</td>\n",
              "      <td>1</td>\n",
              "      <td>other</td>\n",
              "      <td>other</td>\n",
              "      <td>False</td>\n",
              "      <td>False</td>\n",
              "    </tr>\n",
              "    <tr>\n",
              "      <th>DTXSID1020144</th>\n",
              "      <td>7</td>\n",
              "      <td>DTXSID1020144</td>\n",
              "      <td>BENZOIN (INCI); BENZOIN (Preferred Term)</td>\n",
              "      <td>119-53-9</td>\n",
              "      <td>NaN</td>\n",
              "      <td>NaN</td>\n",
              "      <td>NaN</td>\n",
              "      <td>positive</td>\n",
              "      <td>In Vivo Non-mammalian Mutagenesis</td>\n",
              "      <td>mutagenesis (in vivo)</td>\n",
              "      <td>PROG MUTAT RES 5:229-234</td>\n",
              "      <td>COSMOS</td>\n",
              "      <td>SACCHAROMYCES CEREVISIAE</td>\n",
              "      <td>NaN</td>\n",
              "      <td>1985.0</td>\n",
              "      <td>In Vivo Non-mammalian Mutagenesis</td>\n",
              "      <td>positive</td>\n",
              "      <td>1</td>\n",
              "      <td>other</td>\n",
              "      <td>other</td>\n",
              "      <td>False</td>\n",
              "      <td>False</td>\n",
              "    </tr>\n",
              "    <tr>\n",
              "      <th>DTXSID1020144</th>\n",
              "      <td>8</td>\n",
              "      <td>DTXSID1020144</td>\n",
              "      <td>BENZOIN (INCI); BENZOIN (Preferred Term)</td>\n",
              "      <td>119-53-9</td>\n",
              "      <td>NaN</td>\n",
              "      <td>NaN</td>\n",
              "      <td>NaN</td>\n",
              "      <td>positive</td>\n",
              "      <td>In Vivo Non-mammalian Mutagenesis</td>\n",
              "      <td>mutagenesis (in vivo)</td>\n",
              "      <td>PROG MUTAT RES 5:243-255</td>\n",
              "      <td>COSMOS</td>\n",
              "      <td>SACCHAROMYCES CEREVISIAE</td>\n",
              "      <td>NaN</td>\n",
              "      <td>1985.0</td>\n",
              "      <td>In Vivo Non-mammalian Mutagenesis</td>\n",
              "      <td>positive</td>\n",
              "      <td>1</td>\n",
              "      <td>other</td>\n",
              "      <td>other</td>\n",
              "      <td>False</td>\n",
              "      <td>False</td>\n",
              "    </tr>\n",
              "  </tbody>\n",
              "</table>\n",
              "</div>"
            ],
            "text/plain": [
              "               Unnamed: 0 dsstox_substance_id  ...   Ames  ivMNT\n",
              "new_index                                      ...              \n",
              "DTXSID5039224           0       DTXSID5039224  ...  False  False\n",
              "DTXSID5020106           5       DTXSID5020106  ...  False  False\n",
              "DTXSID8039241           6       DTXSID8039241  ...  False  False\n",
              "DTXSID1020144           7       DTXSID1020144  ...  False  False\n",
              "DTXSID1020144           8       DTXSID1020144  ...  False  False\n",
              "\n",
              "[5 rows x 22 columns]"
            ]
          },
          "metadata": {
            "tags": []
          },
          "execution_count": 326
        }
      ]
    },
    {
      "cell_type": "code",
      "metadata": {
        "id": "dKv3Egdh6p0f",
        "colab_type": "code",
        "colab": {
          "base_uri": "https://localhost:8080/",
          "height": 487
        },
        "outputId": "0503fd7b-dd35-49ee-e709-f2f32b8e1671"
      },
      "source": [
        "df.groupby(['new_index', 'aggregate_study_type']).agg({'assay_outcome': ['mean', 'count', 'min', 'max']})\n",
        "  "
      ],
      "execution_count": 327,
      "outputs": [
        {
          "output_type": "execute_result",
          "data": {
            "text/html": [
              "<div>\n",
              "<style scoped>\n",
              "    .dataframe tbody tr th:only-of-type {\n",
              "        vertical-align: middle;\n",
              "    }\n",
              "\n",
              "    .dataframe tbody tr th {\n",
              "        vertical-align: top;\n",
              "    }\n",
              "\n",
              "    .dataframe thead tr th {\n",
              "        text-align: left;\n",
              "    }\n",
              "\n",
              "    .dataframe thead tr:last-of-type th {\n",
              "        text-align: right;\n",
              "    }\n",
              "</style>\n",
              "<table border=\"1\" class=\"dataframe\">\n",
              "  <thead>\n",
              "    <tr>\n",
              "      <th></th>\n",
              "      <th></th>\n",
              "      <th colspan=\"4\" halign=\"left\">assay_outcome</th>\n",
              "    </tr>\n",
              "    <tr>\n",
              "      <th></th>\n",
              "      <th></th>\n",
              "      <th>mean</th>\n",
              "      <th>count</th>\n",
              "      <th>min</th>\n",
              "      <th>max</th>\n",
              "    </tr>\n",
              "    <tr>\n",
              "      <th>new_index</th>\n",
              "      <th>aggregate_study_type</th>\n",
              "      <th></th>\n",
              "      <th></th>\n",
              "      <th></th>\n",
              "      <th></th>\n",
              "    </tr>\n",
              "  </thead>\n",
              "  <tbody>\n",
              "    <tr>\n",
              "      <th rowspan=\"3\" valign=\"top\">1000172-11-1</th>\n",
              "      <th>Ames</th>\n",
              "      <td>0.0</td>\n",
              "      <td>8</td>\n",
              "      <td>0</td>\n",
              "      <td>0</td>\n",
              "    </tr>\n",
              "    <tr>\n",
              "      <th>ivtCA</th>\n",
              "      <td>0.0</td>\n",
              "      <td>2</td>\n",
              "      <td>0</td>\n",
              "      <td>0</td>\n",
              "    </tr>\n",
              "    <tr>\n",
              "      <th>ivt_gene_mutation</th>\n",
              "      <td>0.0</td>\n",
              "      <td>2</td>\n",
              "      <td>0</td>\n",
              "      <td>0</td>\n",
              "    </tr>\n",
              "    <tr>\n",
              "      <th>1000777-61-6</th>\n",
              "      <th>Ames</th>\n",
              "      <td>0.0</td>\n",
              "      <td>3</td>\n",
              "      <td>0</td>\n",
              "      <td>0</td>\n",
              "    </tr>\n",
              "    <tr>\n",
              "      <th>1000817-22-0</th>\n",
              "      <th>Ames</th>\n",
              "      <td>0.0</td>\n",
              "      <td>4</td>\n",
              "      <td>0</td>\n",
              "      <td>0</td>\n",
              "    </tr>\n",
              "    <tr>\n",
              "      <th>...</th>\n",
              "      <th>...</th>\n",
              "      <td>...</td>\n",
              "      <td>...</td>\n",
              "      <td>...</td>\n",
              "      <td>...</td>\n",
              "    </tr>\n",
              "    <tr>\n",
              "      <th>DTXSID9097381</th>\n",
              "      <th>Ames</th>\n",
              "      <td>0.0</td>\n",
              "      <td>2</td>\n",
              "      <td>0</td>\n",
              "      <td>0</td>\n",
              "    </tr>\n",
              "    <tr>\n",
              "      <th>DTXSID9098147</th>\n",
              "      <th>Ames</th>\n",
              "      <td>0.0</td>\n",
              "      <td>3</td>\n",
              "      <td>0</td>\n",
              "      <td>0</td>\n",
              "    </tr>\n",
              "    <tr>\n",
              "      <th rowspan=\"3\" valign=\"top\">DTXSID9098220</th>\n",
              "      <th>Ames</th>\n",
              "      <td>0.0</td>\n",
              "      <td>3</td>\n",
              "      <td>0</td>\n",
              "      <td>0</td>\n",
              "    </tr>\n",
              "    <tr>\n",
              "      <th>ivtMN</th>\n",
              "      <td>0.0</td>\n",
              "      <td>1</td>\n",
              "      <td>0</td>\n",
              "      <td>0</td>\n",
              "    </tr>\n",
              "    <tr>\n",
              "      <th>ivt_gene_mutation</th>\n",
              "      <td>0.0</td>\n",
              "      <td>2</td>\n",
              "      <td>0</td>\n",
              "      <td>0</td>\n",
              "    </tr>\n",
              "  </tbody>\n",
              "</table>\n",
              "<p>13731 rows × 4 columns</p>\n",
              "</div>"
            ],
            "text/plain": [
              "                                   assay_outcome              \n",
              "                                            mean count min max\n",
              "new_index     aggregate_study_type                            \n",
              "1000172-11-1  Ames                           0.0     8   0   0\n",
              "              ivtCA                          0.0     2   0   0\n",
              "              ivt_gene_mutation              0.0     2   0   0\n",
              "1000777-61-6  Ames                           0.0     3   0   0\n",
              "1000817-22-0  Ames                           0.0     4   0   0\n",
              "...                                          ...   ...  ..  ..\n",
              "DTXSID9097381 Ames                           0.0     2   0   0\n",
              "DTXSID9098147 Ames                           0.0     3   0   0\n",
              "DTXSID9098220 Ames                           0.0     3   0   0\n",
              "              ivtMN                          0.0     1   0   0\n",
              "              ivt_gene_mutation              0.0     2   0   0\n",
              "\n",
              "[13731 rows x 4 columns]"
            ]
          },
          "metadata": {
            "tags": []
          },
          "execution_count": 327
        }
      ]
    },
    {
      "cell_type": "code",
      "metadata": {
        "id": "JZkYc-ar7a1R",
        "colab_type": "code",
        "colab": {
          "base_uri": "https://localhost:8080/",
          "height": 34
        },
        "outputId": "413d01a4-ae03-49c1-c6c3-688ecccb2729"
      },
      "source": [
        "set(list(zip(df.assay_outcome, df.assay_result_std)))\n"
      ],
      "execution_count": 328,
      "outputs": [
        {
          "output_type": "execute_result",
          "data": {
            "text/plain": [
              "{(0, 'negative'), (1, 'positive'), (2, 'inconclusive'), (2, 'not determined')}"
            ]
          },
          "metadata": {
            "tags": []
          },
          "execution_count": 328
        }
      ]
    },
    {
      "cell_type": "code",
      "metadata": {
        "id": "vQWBPaK_AOtg",
        "colab_type": "code",
        "colab": {}
      },
      "source": [
        "a_calls = {}\n",
        "for i, group in genetox.groupby(['new_index']):\n",
        "  subset = group[['aggregate_study_type', 'assay_outcome']]\n",
        "  news = [x for x in subset.values if x.any() == 'Ames']\n",
        "  k = [n for n in group['new_index'] if n != ' '][0]\n",
        "  value = list(subset['assay_outcome'])\n",
        "  a_calls[k] = value"
      ],
      "execution_count": 329,
      "outputs": []
    },
    {
      "cell_type": "code",
      "metadata": {
        "id": "T_5NKJLNbZj4",
        "colab_type": "code",
        "colab": {}
      },
      "source": [
        "first_fifty = dict(list(a_calls.items())[0:50])"
      ],
      "execution_count": 330,
      "outputs": []
    },
    {
      "cell_type": "code",
      "metadata": {
        "id": "h-xX6SJFbZp-",
        "colab_type": "code",
        "colab": {
          "base_uri": "https://localhost:8080/",
          "height": 669
        },
        "outputId": "28baa350-0ecd-4077-d00f-a76d9bc27271"
      },
      "source": [
        "plt.style.use('ggplot')\n",
        "plt.figure(figsize = (20,10))\n",
        "labels, data = [*zip(*first_fifty.items())]\n",
        "plt.boxplot(data)\n",
        "plt.xticks(range(1, len(labels)+1), labels, rotation = 'vertical')\n",
        "plt.ylabel('assay_outcome')"
      ],
      "execution_count": 331,
      "outputs": [
        {
          "output_type": "execute_result",
          "data": {
            "text/plain": [
              "Text(0, 0.5, 'assay_outcome')"
            ]
          },
          "metadata": {
            "tags": []
          },
          "execution_count": 331
        },
        {
          "output_type": "display_data",
          "data": {
            "image/png": "[encoded data removed]",
            "text/plain": [
              "<Figure size 1440x720 with 1 Axes>"
            ]
          },
          "metadata": {
            "tags": []
          }
        }
      ]
    },
    {
      "cell_type": "code",
      "metadata": {
        "id": "AljAhoE2bZoy",
        "colab_type": "code",
        "colab": {}
      },
      "source": [
        "ames_df = pd.DataFrame(list(a_calls.items()), columns = ['ID', 'Ames_outcome'])"
      ],
      "execution_count": 225,
      "outputs": []
    },
    {
      "cell_type": "code",
      "metadata": {
        "id": "q9v-2vmjYLGu",
        "colab_type": "code",
        "colab": {}
      },
      "source": [
        "flat_ames_df = ames_df['Ames_outcome'].apply(lambda x: pd.Series(x)).stack().reset_index(level=1, drop=True).to_frame('Ames_outcome').join(ames_df[['ID']], how='left')"
      ],
      "execution_count": 332,
      "outputs": []
    },
    {
      "cell_type": "code",
      "metadata": {
        "id": "TL88A0slYhWW",
        "colab_type": "code",
        "colab": {
          "base_uri": "https://localhost:8080/",
          "height": 424
        },
        "outputId": "dfa4150f-af0d-41f9-d7b4-f33e706072e0"
      },
      "source": [
        "ames_df"
      ],
      "execution_count": 333,
      "outputs": [
        {
          "output_type": "execute_result",
          "data": {
            "text/html": [
              "<div>\n",
              "<style scoped>\n",
              "    .dataframe tbody tr th:only-of-type {\n",
              "        vertical-align: middle;\n",
              "    }\n",
              "\n",
              "    .dataframe tbody tr th {\n",
              "        vertical-align: top;\n",
              "    }\n",
              "\n",
              "    .dataframe thead th {\n",
              "        text-align: right;\n",
              "    }\n",
              "</style>\n",
              "<table border=\"1\" class=\"dataframe\">\n",
              "  <thead>\n",
              "    <tr style=\"text-align: right;\">\n",
              "      <th></th>\n",
              "      <th>ID</th>\n",
              "      <th>Ames_outcome</th>\n",
              "    </tr>\n",
              "  </thead>\n",
              "  <tbody>\n",
              "    <tr>\n",
              "      <th>0</th>\n",
              "      <td>1000172-11-1</td>\n",
              "      <td>[0, 0, 0, 0, 0, 0, 0, 0, 0, 0, 0, 0]</td>\n",
              "    </tr>\n",
              "    <tr>\n",
              "      <th>1</th>\n",
              "      <td>1000777-61-6</td>\n",
              "      <td>[0, 0, 0]</td>\n",
              "    </tr>\n",
              "    <tr>\n",
              "      <th>2</th>\n",
              "      <td>1000817-22-0</td>\n",
              "      <td>[0, 0, 0, 0, 0, 0]</td>\n",
              "    </tr>\n",
              "    <tr>\n",
              "      <th>3</th>\n",
              "      <td>1001254-87-0</td>\n",
              "      <td>[0, 0, 0, 0, 0, 0, 0, 0]</td>\n",
              "    </tr>\n",
              "    <tr>\n",
              "      <th>4</th>\n",
              "      <td>100209-50-5</td>\n",
              "      <td>[0, 0, 1, 1, 1, 1]</td>\n",
              "    </tr>\n",
              "    <tr>\n",
              "      <th>...</th>\n",
              "      <td>...</td>\n",
              "      <td>...</td>\n",
              "    </tr>\n",
              "    <tr>\n",
              "      <th>7434</th>\n",
              "      <td>DTXSID9095008</td>\n",
              "      <td>[1, 0, 0]</td>\n",
              "    </tr>\n",
              "    <tr>\n",
              "      <th>7435</th>\n",
              "      <td>DTXSID90968605</td>\n",
              "      <td>[0, 0, 0, 0]</td>\n",
              "    </tr>\n",
              "    <tr>\n",
              "      <th>7436</th>\n",
              "      <td>DTXSID9097381</td>\n",
              "      <td>[0, 0]</td>\n",
              "    </tr>\n",
              "    <tr>\n",
              "      <th>7437</th>\n",
              "      <td>DTXSID9098147</td>\n",
              "      <td>[0, 0, 0]</td>\n",
              "    </tr>\n",
              "    <tr>\n",
              "      <th>7438</th>\n",
              "      <td>DTXSID9098220</td>\n",
              "      <td>[0, 0, 0, 0, 0, 0]</td>\n",
              "    </tr>\n",
              "  </tbody>\n",
              "</table>\n",
              "<p>7439 rows × 2 columns</p>\n",
              "</div>"
            ],
            "text/plain": [
              "                  ID                          Ames_outcome\n",
              "0       1000172-11-1  [0, 0, 0, 0, 0, 0, 0, 0, 0, 0, 0, 0]\n",
              "1       1000777-61-6                             [0, 0, 0]\n",
              "2       1000817-22-0                    [0, 0, 0, 0, 0, 0]\n",
              "3       1001254-87-0              [0, 0, 0, 0, 0, 0, 0, 0]\n",
              "4        100209-50-5                    [0, 0, 1, 1, 1, 1]\n",
              "...              ...                                   ...\n",
              "7434   DTXSID9095008                             [1, 0, 0]\n",
              "7435  DTXSID90968605                          [0, 0, 0, 0]\n",
              "7436   DTXSID9097381                                [0, 0]\n",
              "7437   DTXSID9098147                             [0, 0, 0]\n",
              "7438   DTXSID9098220                    [0, 0, 0, 0, 0, 0]\n",
              "\n",
              "[7439 rows x 2 columns]"
            ]
          },
          "metadata": {
            "tags": []
          },
          "execution_count": 333
        }
      ]
    },
    {
      "cell_type": "code",
      "metadata": {
        "id": "rSBLakUAYoMI",
        "colab_type": "code",
        "colab": {
          "base_uri": "https://localhost:8080/",
          "height": 424
        },
        "outputId": "649c5e2b-4fb6-492c-9ce1-fa0c95f4245e"
      },
      "source": [
        "flat_ames_df"
      ],
      "execution_count": 334,
      "outputs": [
        {
          "output_type": "execute_result",
          "data": {
            "text/html": [
              "<div>\n",
              "<style scoped>\n",
              "    .dataframe tbody tr th:only-of-type {\n",
              "        vertical-align: middle;\n",
              "    }\n",
              "\n",
              "    .dataframe tbody tr th {\n",
              "        vertical-align: top;\n",
              "    }\n",
              "\n",
              "    .dataframe thead th {\n",
              "        text-align: right;\n",
              "    }\n",
              "</style>\n",
              "<table border=\"1\" class=\"dataframe\">\n",
              "  <thead>\n",
              "    <tr style=\"text-align: right;\">\n",
              "      <th></th>\n",
              "      <th>Ames_outcome</th>\n",
              "      <th>ID</th>\n",
              "    </tr>\n",
              "  </thead>\n",
              "  <tbody>\n",
              "    <tr>\n",
              "      <th>0</th>\n",
              "      <td>0.0</td>\n",
              "      <td>1000172-11-1</td>\n",
              "    </tr>\n",
              "    <tr>\n",
              "      <th>0</th>\n",
              "      <td>0.0</td>\n",
              "      <td>1000172-11-1</td>\n",
              "    </tr>\n",
              "    <tr>\n",
              "      <th>0</th>\n",
              "      <td>0.0</td>\n",
              "      <td>1000172-11-1</td>\n",
              "    </tr>\n",
              "    <tr>\n",
              "      <th>0</th>\n",
              "      <td>0.0</td>\n",
              "      <td>1000172-11-1</td>\n",
              "    </tr>\n",
              "    <tr>\n",
              "      <th>0</th>\n",
              "      <td>0.0</td>\n",
              "      <td>1000172-11-1</td>\n",
              "    </tr>\n",
              "    <tr>\n",
              "      <th>...</th>\n",
              "      <td>...</td>\n",
              "      <td>...</td>\n",
              "    </tr>\n",
              "    <tr>\n",
              "      <th>7438</th>\n",
              "      <td>0.0</td>\n",
              "      <td>DTXSID9098220</td>\n",
              "    </tr>\n",
              "    <tr>\n",
              "      <th>7438</th>\n",
              "      <td>0.0</td>\n",
              "      <td>DTXSID9098220</td>\n",
              "    </tr>\n",
              "    <tr>\n",
              "      <th>7438</th>\n",
              "      <td>0.0</td>\n",
              "      <td>DTXSID9098220</td>\n",
              "    </tr>\n",
              "    <tr>\n",
              "      <th>7438</th>\n",
              "      <td>0.0</td>\n",
              "      <td>DTXSID9098220</td>\n",
              "    </tr>\n",
              "    <tr>\n",
              "      <th>7438</th>\n",
              "      <td>0.0</td>\n",
              "      <td>DTXSID9098220</td>\n",
              "    </tr>\n",
              "  </tbody>\n",
              "</table>\n",
              "<p>46388 rows × 2 columns</p>\n",
              "</div>"
            ],
            "text/plain": [
              "      Ames_outcome             ID\n",
              "0              0.0   1000172-11-1\n",
              "0              0.0   1000172-11-1\n",
              "0              0.0   1000172-11-1\n",
              "0              0.0   1000172-11-1\n",
              "0              0.0   1000172-11-1\n",
              "...            ...            ...\n",
              "7438           0.0  DTXSID9098220\n",
              "7438           0.0  DTXSID9098220\n",
              "7438           0.0  DTXSID9098220\n",
              "7438           0.0  DTXSID9098220\n",
              "7438           0.0  DTXSID9098220\n",
              "\n",
              "[46388 rows x 2 columns]"
            ]
          },
          "metadata": {
            "tags": []
          },
          "execution_count": 334
        }
      ]
    },
    {
      "cell_type": "code",
      "metadata": {
        "id": "JkWp6snhjll4",
        "colab_type": "code",
        "colab": {}
      },
      "source": [
        "g = flat_ames_df.groupby('ID').filter(lambda x: len(x['Ames_outcome']) >= 3)"
      ],
      "execution_count": 335,
      "outputs": []
    },
    {
      "cell_type": "code",
      "metadata": {
        "id": "wDEKixbDjwB0",
        "colab_type": "code",
        "colab": {}
      },
      "source": [
        "\n",
        "bs_samples = g.groupby('ID').apply(lambda x : np.random.choice(x['Ames_outcome'], size=len(x['Ames_outcome'])))\n",
        "\n"
      ],
      "execution_count": 338,
      "outputs": []
    },
    {
      "cell_type": "code",
      "metadata": {
        "id": "CROmuaxPzQf3",
        "colab_type": "code",
        "colab": {}
      },
      "source": [
        "from scipy.stats import mode"
      ],
      "execution_count": 337,
      "outputs": []
    },
    {
      "cell_type": "code",
      "metadata": {
        "id": "kaN78Wr3gL7M",
        "colab_type": "code",
        "colab": {}
      },
      "source": [
        "replicates = []\n",
        "for e in bs_samples.values:\n",
        "  x_mode,counts = mode(e)\n",
        "  replicates.append(x_mode)\n"
      ],
      "execution_count": 339,
      "outputs": []
    },
    {
      "cell_type": "code",
      "metadata": {
        "id": "D6N68oFCgdo-",
        "colab_type": "code",
        "colab": {
          "base_uri": "https://localhost:8080/",
          "height": 34
        },
        "outputId": "2b6d0bd0-92f8-49a3-b89e-db4fb2f4fee0"
      },
      "source": [
        "len(replicates)"
      ],
      "execution_count": 340,
      "outputs": [
        {
          "output_type": "execute_result",
          "data": {
            "text/plain": [
              "4038"
            ]
          },
          "metadata": {
            "tags": []
          },
          "execution_count": 340
        }
      ]
    },
    {
      "cell_type": "code",
      "metadata": {
        "id": "CUr0d8nsg4TU",
        "colab_type": "code",
        "colab": {}
      },
      "source": [
        "g_dict = {}\n",
        "for i, group in g.groupby(['ID']):\n",
        "  k = [n for n in group['ID'] if n != ' '][0]\n",
        "  value = list(group['Ames_outcome'])\n",
        "  g_dict[k] = value"
      ],
      "execution_count": 341,
      "outputs": []
    },
    {
      "cell_type": "code",
      "metadata": {
        "id": "AEN7noZt11la",
        "colab_type": "code",
        "colab": {}
      },
      "source": [
        "#g_dict"
      ],
      "execution_count": 343,
      "outputs": []
    },
    {
      "cell_type": "code",
      "metadata": {
        "id": "CE3COT_pNMc2",
        "colab_type": "code",
        "colab": {}
      },
      "source": [
        "mydata = g_dict['1000172-11-1']"
      ],
      "execution_count": 345,
      "outputs": []
    },
    {
      "cell_type": "code",
      "metadata": {
        "id": "Js-2rcRekP-_",
        "colab_type": "code",
        "colab": {}
      },
      "source": [
        "mydata = np.array([1,1,0,0,0,0,0,1,1,1,1,0,0,0,1,1,1])"
      ],
      "execution_count": 346,
      "outputs": []
    },
    {
      "cell_type": "code",
      "metadata": {
        "id": "wZrSeQ8iNZk8",
        "colab_type": "code",
        "colab": {
          "base_uri": "https://localhost:8080/",
          "height": 34
        },
        "outputId": "bbdcb606-2e90-4d3d-adf1-10fd98fed2ae"
      },
      "source": [
        "bootstrap_replicate_1d(mydata, np.mean)"
      ],
      "execution_count": 349,
      "outputs": [
        {
          "output_type": "execute_result",
          "data": {
            "text/plain": [
              "0.5882352941176471"
            ]
          },
          "metadata": {
            "tags": []
          },
          "execution_count": 349
        }
      ]
    },
    {
      "cell_type": "code",
      "metadata": {
        "id": "TmFg2suhNhPz",
        "colab_type": "code",
        "colab": {}
      },
      "source": [
        "rest = bootstrap_replicate(g_dict, np.mean)"
      ],
      "execution_count": 350,
      "outputs": []
    },
    {
      "cell_type": "code",
      "metadata": {
        "id": "3Cizlr4fktmV",
        "colab_type": "code",
        "colab": {}
      },
      "source": [
        "res = []\n",
        "for k in list(g_dict.keys()):\n",
        "  a = g_dict[k]\n",
        "  x = bootstrap_replicate_1d(a, np.mean)\n",
        "  res.append([x])\n",
        "\n",
        " "
      ],
      "execution_count": 351,
      "outputs": []
    },
    {
      "cell_type": "code",
      "metadata": {
        "id": "vQ2jVGl0vODh",
        "colab_type": "code",
        "colab": {
          "base_uri": "https://localhost:8080/",
          "height": 34
        },
        "outputId": "c0dcb54b-b630-412d-90dd-700445a8da8e"
      },
      "source": [
        "g_dict['1000172-11-1']"
      ],
      "execution_count": 354,
      "outputs": [
        {
          "output_type": "execute_result",
          "data": {
            "text/plain": [
              "[0.0, 0.0, 0.0, 0.0, 0.0, 0.0, 0.0, 0.0, 0.0, 0.0, 0.0, 0.0]"
            ]
          },
          "metadata": {
            "tags": []
          },
          "execution_count": 354
        }
      ]
    },
    {
      "cell_type": "code",
      "metadata": {
        "id": "JuKlw3Iikuhb",
        "colab_type": "code",
        "colab": {}
      },
      "source": [
        "def ecdf(data):\n",
        "    \"\"\"Compute ECDF for a one-dimensional array of measurements.\"\"\"\n",
        "    # Number of data points\n",
        "    n = len(data)\n",
        "\n",
        "    # x-data for the ECDF\n",
        "    x = np.sort(data)\n",
        "\n",
        "    # y-data for the ECDF\n",
        "    y = np.arange(1, n + 1) / n\n",
        "\n",
        "    return x, y\n",
        "  "
      ],
      "execution_count": 359,
      "outputs": []
    },
    {
      "cell_type": "code",
      "metadata": {
        "id": "iw_l72RgW4sH",
        "colab_type": "code",
        "colab": {}
      },
      "source": [
        "def bootstrap_replicate_1d(data, func):\n",
        "    \"\"\"Generate bootstrap replicate of 1D data.\"\"\"\n",
        "    bs_sample = np.random.choice(data, len(data))\n",
        "\n",
        "    return func(bs_sample)\n",
        "\n",
        "\n",
        "def draw_bs_reps(data, func, size=1):\n",
        "    \"\"\"Draw `size` bootstrap replicates.\"\"\"\n",
        "    # Initialize array of replicates\n",
        "    bs_replicates = np.empty(size)\n",
        "\n",
        "    # Generate replicates\n",
        "    for i in range(size):\n",
        "        bs_replicates[i] = bootstrap_replicate_1d(data, func)\n",
        "\n",
        "    return bs_replicates"
      ],
      "execution_count": 360,
      "outputs": []
    },
    {
      "cell_type": "code",
      "metadata": {
        "id": "AWW4MluIp3yK",
        "colab_type": "code",
        "colab": {}
      },
      "source": [
        "def plugin_summary(\n",
        "    data, func, ptiles=(2.5, 97.5), n_bs_reps=10000, label=None\n",
        "):\n",
        "    \"\"\"Compute and store ECDF, plug-in estimate, and confidence\n",
        "    intervals in a dictionary.\"\"\"\n",
        "    # Initialize output dictionary\n",
        "    summary = {}\n",
        "    # Store data and settings\n",
        "    summary['data'] = data\n",
        "    summary['func'] = func\n",
        "    summary['ptiles'] = ptiles\n",
        "    summary['n_bs_reps'] = n_bs_reps\n",
        "    summary['label'] = label\n",
        "    # Compute ECDF x and y values\n",
        "    summary['ecdf_x'], summary['ecdf_y'] = ecdf(data)\n",
        "    # Compute plug-in estimate\n",
        "    summary['estimate'] = func(data)\n",
        "    # Compute bootstrap confidence interval\n",
        "    summary['bs_reps'] = draw_bs_reps(data, func, size = n_bs_reps)\n",
        "    summary['conf_int'] = np.percentile(summary['bs_reps'],ptiles)\n",
        "    return summary\n"
      ],
      "execution_count": 361,
      "outputs": []
    },
    {
      "cell_type": "code",
      "metadata": {
        "id": "zm6EgBcEqp50",
        "colab_type": "code",
        "colab": {}
      },
      "source": [
        "# Initialize list of plug-in summaries\n",
        "summaries = []\n",
        "# Iterate through groups and instantiate conf intervals\n",
        "for i, group in g.groupby('ID'):\n",
        "  summaries.append(\n",
        "      plugin_summary(group['Ames_outcome'].dropna().values, np.mean, label = i)\n",
        "  )"
      ],
      "execution_count": 364,
      "outputs": []
    },
    {
      "cell_type": "code",
      "metadata": {
        "id": "qC52KbsncJeX",
        "colab_type": "code",
        "colab": {
          "base_uri": "https://localhost:8080/",
          "height": 191
        },
        "outputId": "6163b829-3cdf-439b-fade-7490e8ca99b4"
      },
      "source": [
        "summaries[3]"
      ],
      "execution_count": 406,
      "outputs": [
        {
          "output_type": "execute_result",
          "data": {
            "text/plain": [
              "{'bs_reps': array([0., 0., 0., ..., 0., 0., 0.]),\n",
              " 'conf_int': array([0., 0.]),\n",
              " 'data': array([0., 0., 0., 0., 0., 0., 0., 0.]),\n",
              " 'ecdf_x': array([0., 0., 0., 0., 0., 0., 0., 0.]),\n",
              " 'ecdf_y': array([0.125, 0.25 , 0.375, 0.5  , 0.625, 0.75 , 0.875, 1.   ]),\n",
              " 'estimate': 0.0,\n",
              " 'func': <function numpy.mean>,\n",
              " 'label': '1001254-87-0',\n",
              " 'n_bs_reps': 10000,\n",
              " 'ptiles': (2.5, 97.5)}"
            ]
          },
          "metadata": {
            "tags": []
          },
          "execution_count": 406
        }
      ]
    },
    {
      "cell_type": "code",
      "metadata": {
        "id": "sa0TpSZLrIWz",
        "colab_type": "code",
        "colab": {
          "base_uri": "https://localhost:8080/",
          "height": 282
        },
        "outputId": "e864b7a2-6153-4099-83d4-d1e665d02bc4"
      },
      "source": [
        "# Plot the ECDFs\n",
        "for s in summaries[:10]:\n",
        "  plt.plot(\n",
        "      s['ecdf_x'],\n",
        "      s['ecdf_y'],\n",
        "      marker = '.',\n",
        "      linestyle = 'none',\n",
        "      label = s['label']\n",
        "      \n",
        "  )\n",
        "  plt.xlabel('Ames outcomes')\n",
        "  plt.ylabel('ECDF')\n",
        "  plt.legend()"
      ],
      "execution_count": 378,
      "outputs": [
        {
          "output_type": "display_data",
          "data": {
            "image/png": "[encoded data removed]",
            "text/plain": [
              "<Figure size 432x288 with 1 Axes>"
            ]
          },
          "metadata": {
            "tags": []
          }
        }
      ]
    },
    {
      "cell_type": "code",
      "metadata": {
        "id": "zoiv-3hKvnh3",
        "colab_type": "code",
        "colab": {}
      },
      "source": [
        "def plot_conf_ints(summaries, palette=None):\n",
        "    \"\"\"Plot confidence intervals with estimates.\"\"\"\n",
        "    # Set a nice color palette\n",
        "    if palette is None:\n",
        "        palette = [\n",
        "            \"#1f77b4\",\n",
        "            \"#ff7f0e\",\n",
        "            \"#2ca02c\",\n",
        "            \"#d62728\",\n",
        "            \"#9467bd\",\n",
        "            \"#8c564b\",\n",
        "            \"#e377c2\",\n",
        "            \"#7f7f7f\",\n",
        "            \"#bcbd22\",\n",
        "            \"#17becf\",\n",
        "        ]\n",
        "    elif type(palette) == str:\n",
        "        palette = [palette]\n",
        "\n",
        "    labels = [ci[\"label\"] for ci in summaries][::-1]\n",
        "    estimates = [ci[\"estimate\"] for ci in summaries][::-1]\n",
        "    conf_intervals = [ci[\"conf_int\"] for ci in summaries][::-1]\n",
        "    palette = palette[: len(labels)][::-1]\n",
        "\n",
        "    # Set up axes for plot\n",
        "    fig, ax = plt.subplots(figsize=(5, len(labels) / 2))\n",
        "\n",
        "    # Plot estimates as dots and confidence intervals as lines\n",
        "    for i, (label, est, conf_int) in enumerate(\n",
        "        zip(labels, estimates, conf_intervals)\n",
        "    ):\n",
        "        color = palette[i % len(palette)]\n",
        "        ax.plot(\n",
        "            [est],\n",
        "            [label],\n",
        "            marker=\".\",\n",
        "            linestyle=\"none\",\n",
        "            markersize=10,\n",
        "            color=color,\n",
        "        )\n",
        "\n",
        "        ax.plot(conf_int, [label] * 2, linewidth=3, color=color)\n",
        "\n",
        "    # Make sure margins look ok\n",
        "    ax.margins(y=0.25 if len(labels) < 3 else 0.125)\n",
        "\n",
        "    return ax"
      ],
      "execution_count": 380,
      "outputs": []
    },
    {
      "cell_type": "code",
      "metadata": {
        "id": "M2rvpXGrvnm_",
        "colab_type": "code",
        "colab": {
          "base_uri": "https://localhost:8080/",
          "height": 1000
        },
        "outputId": "fc10de7a-db29-46a4-90a6-414e32a9f6be"
      },
      "source": [
        "# Make plot\n",
        "ax = plot_conf_ints(summaries[:60])\n",
        "# Set the axis label\n",
        "_ = ax.set_xlabel('bsr_Ames_outcomes')\n",
        "_ = ax.set_title('Bootstrapped replicates of Ames_outcomes')"
      ],
      "execution_count": 409,
      "outputs": [
        {
          "output_type": "display_data",
          "data": {
            "image/png": "[encoded data removed]",
            "text/plain": [
              "<Figure size 360x2160 with 1 Axes>"
            ]
          },
          "metadata": {
            "tags": []
          }
        }
      ]
    },
    {
      "cell_type": "code",
      "metadata": {
        "id": "sKr1bkzBekN5",
        "colab_type": "code",
        "colab": {}
      },
      "source": [
        "ames_std =  g.groupby(['ID'],as_index = True).agg({'Ames_outcome': ['mean','std']})"
      ],
      "execution_count": 392,
      "outputs": []
    },
    {
      "cell_type": "code",
      "metadata": {
        "id": "EpgpPQETekRC",
        "colab_type": "code",
        "colab": {}
      },
      "source": [
        "\n",
        "ames_std = ames_std['Ames_outcome', 'std'].reset_index()"
      ],
      "execution_count": 393,
      "outputs": []
    },
    {
      "cell_type": "code",
      "metadata": {
        "id": "Y8_sldn0ekU8",
        "colab_type": "code",
        "colab": {}
      },
      "source": [
        "\n",
        "ames_std.columns = ames_std.columns.droplevel(0)"
      ],
      "execution_count": 396,
      "outputs": []
    },
    {
      "cell_type": "code",
      "metadata": {
        "id": "vtSJZjMmekYR",
        "colab_type": "code",
        "colab": {}
      },
      "source": [
        "ames_std.columns = ['ID','std']"
      ],
      "execution_count": 398,
      "outputs": []
    },
    {
      "cell_type": "code",
      "metadata": {
        "id": "JPDAUgHPvnlX",
        "colab_type": "code",
        "colab": {
          "base_uri": "https://localhost:8080/",
          "height": 34
        },
        "outputId": "9bd8adda-657f-4948-faa5-40cad1f7d2ac"
      },
      "source": [
        "np.random.seed(42)\n",
        "std_devs, sims = [], 10000\n",
        "for i in range(sims):\n",
        "    temp_sample = np.random.choice(ames_std['std'], replace = True, size = len(ames_std['std']))\n",
        "    sample_std = np.std(temp_sample)\n",
        "    std_devs.append(sample_std)\n",
        "    \n",
        "boot_mean = np.mean(std_devs)\n",
        "boot_95_CI = np.percentile(std_devs, [2.5, 97.5])\n",
        "\n",
        "print('Bootstrapped mean std = {}, 95% CI = {}'.format(boot_mean, boot_95_CI))"
      ],
      "execution_count": 399,
      "outputs": [
        {
          "output_type": "stream",
          "text": [
            "Bootstrapped mean std = 0.3302184062739817, 95% CI = [0.32412307 0.33637204]\n"
          ],
          "name": "stdout"
        }
      ]
    },
    {
      "cell_type": "code",
      "metadata": {
        "id": "f4D0B4qhgQQU",
        "colab_type": "code",
        "colab": {
          "base_uri": "https://localhost:8080/",
          "height": 316
        },
        "outputId": "0ea626b7-28cb-485e-b74a-6c3487388ca4"
      },
      "source": [
        "plt.hist(std_devs, bins = 50, density = True);\n",
        "plt.xlabel('standard deviation')\n",
        "plt.ylabel('count')\n",
        "plt.title('Bootstrapped std of all substances with 3 or more Ames outcomes')"
      ],
      "execution_count": 404,
      "outputs": [
        {
          "output_type": "execute_result",
          "data": {
            "text/plain": [
              "Text(0.5, 1.0, 'Bootstrapped std of all substances with 3 or more Ames outcomes')"
            ]
          },
          "metadata": {
            "tags": []
          },
          "execution_count": 404
        },
        {
          "output_type": "display_data",
          "data": {
            "image/png": "[encoded data removed]",
            "text/plain": [
              "<Figure size 432x288 with 1 Axes>"
            ]
          },
          "metadata": {
            "tags": []
          }
        }
      ]
    },
    {
      "cell_type": "code",
      "metadata": {
        "id": "94KZM4mPgQTX",
        "colab_type": "code",
        "colab": {
          "base_uri": "https://localhost:8080/",
          "height": 34
        },
        "outputId": "fbbf79f9-b1da-45d3-8d56-22a6b0f1ec45"
      },
      "source": [
        ""
      ],
      "execution_count": 401,
      "outputs": [
        {
          "output_type": "execute_result",
          "data": {
            "text/plain": [
              "10000"
            ]
          },
          "metadata": {
            "tags": []
          },
          "execution_count": 401
        }
      ]
    },
    {
      "cell_type": "code",
      "metadata": {
        "id": "6ssCBBsTgQYn",
        "colab_type": "code",
        "colab": {}
      },
      "source": [
        ""
      ],
      "execution_count": null,
      "outputs": []
    },
    {
      "cell_type": "code",
      "metadata": {
        "id": "1E5nQm7cgQXI",
        "colab_type": "code",
        "colab": {}
      },
      "source": [
        ""
      ],
      "execution_count": null,
      "outputs": []
    }
  ]
}