{
  "nbformat": 4,
  "nbformat_minor": 0,
  "metadata": {
    "colab": {
      "name": "01_gp_CAS_chksum.ipynb",
      "provenance": [],
      "authorship_tag": "ABX9TyM/t4iCkJmyZHdhOAmtnueI",
      "include_colab_link": true
    },
    "kernelspec": {
      "name": "python3",
      "display_name": "Python 3"
    }
  },
  "cells": [
    {
      "cell_type": "markdown",
      "metadata": {
        "id": "view-in-github",
        "colab_type": "text"
      },
      "source": [
        "<a href=\"https://colab.research.google.com/github/patlewig/cas_checksum/blob/master/notebooks/01_gp_CAS_chksum.ipynb\" target=\"_parent\"><img src=\"https://colab.research.google.com/assets/colab-badge.svg\" alt=\"Open In Colab\"/></a>"
      ]
    },
    {
      "cell_type": "markdown",
      "metadata": {
        "id": "pKy-9eWFHs72",
        "colab_type": "text"
      },
      "source": [
        "# Script to check CAS number"
      ]
    },
    {
      "cell_type": "code",
      "metadata": {
        "id": "AL_AaiJSH04y",
        "colab_type": "code",
        "colab": {}
      },
      "source": [
        "import re"
      ],
      "execution_count": 0,
      "outputs": []
    },
    {
      "cell_type": "code",
      "metadata": {
        "id": "GhOHSbZUH6fL",
        "colab_type": "code",
        "colab": {}
      },
      "source": [
        "def check_sum(cas_string):\n",
        "    \n",
        "    casArray = re.findall(r'\\d', cas_string)\n",
        "    check_digit = int(casArray.pop())\n",
        "    x = [(i+1) for i in range(len(casArray))]\n",
        "    y = casArray[::-1]\n",
        "    Q = int(sum([(i * int(j)) for i, j in zip(x,y)]) % 10)\n",
        "    if Q == check_digit:\n",
        "        print('valid CAS')\n",
        "    else: \n",
        "        print('failed_checksum')"
      ],
      "execution_count": 0,
      "outputs": []
    },
    {
      "cell_type": "markdown",
      "metadata": {
        "id": "UuF3xQuAIJ7B",
        "colab_type": "text"
      },
      "source": [
        "Checking whether the check_sum works. 50-00-0 is the CAS for formaldehyde hence a valid CAS"
      ]
    },
    {
      "cell_type": "code",
      "metadata": {
        "id": "2SAE7ploH9RD",
        "colab_type": "code",
        "outputId": "31335c11-03d5-4124-93f9-d4127d54b1ed",
        "colab": {
          "base_uri": "https://localhost:8080/",
          "height": 34
        }
      },
      "source": [
        "check_sum('50-00-0')"
      ],
      "execution_count": 0,
      "outputs": [
        {
          "output_type": "stream",
          "text": [
            "valid CAS\n"
          ],
          "name": "stdout"
        }
      ]
    }
  ]
}